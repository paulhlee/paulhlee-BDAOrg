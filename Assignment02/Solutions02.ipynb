{
 "cells": [
  {
   "cell_type": "markdown",
   "metadata": {},
   "source": [
    "# Assignment 02\n",
    "\n",
    "**Due:** 2015-02-15, 11:59 PM, as a Jupyter notebook submitted via your repo in the course GitHub organization.  Edit the provided Solution02 notebook with your solutions.  All subproblems are worth 1 point unless otherwise noted."
   ]
  },
  {
   "cell_type": "markdown",
   "metadata": {},
   "source": [
    "### Problem 1.1 (1/2 point):\n",
    "\n",
    "> *How many possible binary logical operations are there?*  Don't just report a number; briefly explain your reasoning."
   ]
  },
  {
   "cell_type": "markdown",
   "metadata": {},
   "source": [
    "### Answer 1.1\n",
    "For each A, whether it is 1 or 0, there are two pssibilities for B, which is 1 or 0. So there are 4 combinations of A X B. There are four rows, and each row can take on either 1 or 0 independent of other rows. So there are **2x2x2x2 = 16** possible binary logical operations\n"
   ]
  },
  {
   "cell_type": "markdown",
   "metadata": {},
   "source": [
    "### Problem 1.2 (1/2 point):\n",
    "\n",
    "An important result in propositional logic is that **all** possible logical operations can be expressed in terms of **NOT**, **AND**, and **OR**; one says this set of operations is *functionally complete*.  In particular, whatever your answer was for Problem 1.1, all of those binary operations can be expressed as some combination of **NOT**, **AND**, and **OR**.  This is important for probability theory, which is built on expressions for probabilities for these three operations on propositions.\n",
    "\n",
    "> *Express **XOR** in terms of **NOT**, **AND**, and **OR** (you may not need all of them).*\n",
    "\n",
    "> Present your result as a truth table similar to this:\n",
    "\n",
    "| $A$ | $B$ |   | OP1 | OP2 | ... |   | **Answer** |\n",
    "|:---:|:---:|---|:---:|:---:|:---:|---|:----------:|\n",
    "| 0   | 0   |   | ?   | ?   |     |   | 0          |\n",
    "| 0   | 1   |   | ?   | ?   |     |   | 1          |\n",
    "| 1   | 0   |   | ?   | ?   |     |   | 1          |\n",
    "| 1   | 1   |   | ?   | ?   |     |   | 0          |\n",
    "\n",
    "> Replace **OP1**, etc., with whatever operations you are composing to construct **XOR** (i.e., showing the ingredients comprising your expression), and replace **Answer** with your final expression (e.g., something like $(A\\land B)\\lor (\\overline{A\\lor B}) \\land B$, but not exactly that!).\n",
    "\n",
    "[To quickly create nice Markdown markup for the tables above, I used the [Markdown TablesGenerator](http://www.tablesgenerator.com/markdown_tables) that we used in Lab.  Feel free to use it to help with your solutions.]"
   ]
  },
  {
   "cell_type": "markdown",
   "metadata": {},
   "source": [
    "### Answer 1.2 \n",
    "| $A$ | $B$ |   | $A \\lor B$ | $\\overline{A\\land B}$ | ... |   | $A \\lor B \\land \\overline{A\\land B}$ |\n",
    "|:---:|:---:|---|:---:|:---:|:---:|---|:----------:|\n",
    "| 0   | 0   |   | 0   | 1   |     |   | 0          |\n",
    "| 0   | 1   |   | 1   | 1   |     |   | 1          |\n",
    "| 1   | 0   |   | 1   | 1   |     |   | 1          |\n",
    "| 1   | 1   |   | 1   | 0   |     |   | 0          |"
   ]
  },
  {
   "cell_type": "markdown",
   "metadata": {},
   "source": [
    "### Problem 1.3:\n",
    "\n",
    "There are other small sets of functionally complete operations.  In fact, all possible logical operations can be expressed in terms of a **single** binary operator, which may be taken to be either **NAND** (\"*NOT* *AND*\" or \"not both,\" i.e., $\\overline{A\\land B}$) or **NOR** (\"*NOT* *OR*,\" i.e., $\\overline{A\\lor B}$, \"neither $A$ nor $B$\"), as defined in the following truth table:\n",
    "\n",
    "| $A$ | $B$ |   | $A$ NAND $B$ | $A$ NOR $B$ |\n",
    "|:---:|:---:|---|:------------:|:-----------:|\n",
    "| 0   | 0   |   | 1            | 1           |\n",
    "| 0   | 1   |   | 1            | 0           |\n",
    "| 1   | 0   |   | 1            | 0           |\n",
    "| 1   | 1   |   | 0            | 0           |\n",
    "\n",
    "> *Pick one of these operators, and express $\\overline{A}$, $A\\land B$, and $A\\lor B$ in terms of it.*  You need only present three expressions (use MathJax LaTeX); no truth tables are necessary."
   ]
  },
  {
   "cell_type": "markdown",
   "metadata": {},
   "source": [
    "### Answer 1.3\n",
    "| $A$ | $A$ NOR $B$  |   | $\\overline{A}$    |\n",
    "|:---:|:---:         |---|:-----------------:|\n",
    "| 0   | 1            |   | 1                 |\n",
    "| 1   | 0            |   | 0                 |\n",
    "\n",
    "| $A$ | $B$ |   | $\\overline{A}$   NOR $\\overline{B}$   |    |$A\\land B$|\n",
    "|:---:|:---:|---|:-------------:|----|:------:|\n",
    "| 0   | 0   |   | 0             |    |   0     |\n",
    "| 0   | 1   |   | 0             |    |   0    |\n",
    "| 1   | 0   |   | 0             |    |   0    |\n",
    "| 1   | 1   |   | 1             |    |   1    |\n",
    "\n",
    "\n",
    "| $A$ | $B$ |   | $\\overline{ANORB}$ |    |$A\\lor B$|\n",
    "|:---:|:---:|---|:-------------:|----|:------:|\n",
    "| 0   | 0   |   | 0             |    |   0     |\n",
    "| 0   | 1   |   | 1             |    |   1    |\n",
    "| 1   | 0   |   | 1             |    |   1    |\n",
    "| 1   | 1   |   | 1             |    |   1    |"
   ]
  },
  {
   "cell_type": "markdown",
   "metadata": {},
   "source": [
    "### Problem 1.4:\n",
    "\n",
    "Digital computers are essentially propositional logic computing devices, built using \"logic gate\" circuit elements that implement basic logic (and memory) functions.  A key component of a CPU chip in a computer is an *arithmetic logic unit* (ALU) that performs arithmetic and bitwise logic operations on bits and larger groups of binary digits (*nibbles* comprised of 4 bits, *bytes* comprised of 8 bits, and *words* comprised of multiple bytes).  The ALU is built from simple gates that implement desired operations via truth table representations.  For example, the addition of the lowermost bits, $A$ and $B$, of two numbers can be expressed by the following truth table:\n",
    "\n",
    "| $A$ | $B$ |   | Sum | Carry |\n",
    "|:---:|:---:|---|:---:|:-----:|\n",
    "| 0   | 0   |   | 0   | 0     |\n",
    "| 0   | 1   |   | 1   | 0     |\n",
    "| 1   | 0   |   | 1   | 0     |\n",
    "| 1   | 1   |   | 0   | 1     |\n",
    "\n",
    "Here **Sum** denotes the first (lowermost) binary digit of the sum of $A$ and $B$, and **Carry** denotes a carry bit, indicating that $1+1=2$, or 10 in binary (the carry bit will affect the outcome of adding the next highest bits of the numbers being processed by the ALU).  Two logic functions implementing this table comprise a *half adder* (a *full adder* is a trinary operation that handles an additional carry bit input).\n",
    "\n",
    "> *Express the Sum and Carry operations in terms of **NOT**, **AND**, and **OR**.*  Show the intermediate operations in a truth table, along the lines of Problem 1.2."
   ]
  },
  {
   "cell_type": "markdown",
   "metadata": {},
   "source": [
    "| $A$ | $B$ |   | $A$ OR $B$   | $\\overline{A\\land B}$ | $A \\lor B \\land \\overline{A\\land B}$ |SUM|\n",
    "|:---:|:---:|---|:------------:|:-----------:                   |:-------------------------:|:------------------------------:  |\n",
    "| 0   | 0   |   | 0            | 1                              |0                          |0|\n",
    "| 0   | 1   |   | 1            | 1                              |1                          |1|\n",
    "| 1   | 0   |   | 1            | 1                              |1                          |1|\n",
    "| 1   | 1   |   | 1            | 0                              |0                          |0|"
   ]
  },
  {
   "cell_type": "markdown",
   "metadata": {},
   "source": [
    "| $A$ | $B$ |   | ${A}$$\\land$ ${B}$   |    |Carry|\n",
    "|:---:|:---:|---|:-------------:|----|:------:|\n",
    "| 0   | 0   |   | 0             |    |   0     |\n",
    "| 0   | 1   |   | 0             |    |   0    |\n",
    "| 1   | 0   |   | 0             |    |   0    |\n",
    "| 1   | 1   |   | 1             |    |   1    |"
   ]
  },
  {
   "cell_type": "markdown",
   "metadata": {},
   "source": [
    "### Problem 2.1:\n",
    "\n",
    "> *Using Bayes's theorem, answer the question posed in the Kahneman/Tversky exercise quoted above, verifying that the typical answer is incorrect.*\n",
    "> * Specify the hypothesis space.\n",
    "> * Specify the data proposition.\n",
    "> * Calculate the posterior probabilities for the hypotheses, presenting a table that shows the prior, likelihood, prior$\\times$likelihood, and posterior probabilities for the hypotheses."
   ]
  },
  {
   "cell_type": "markdown",
   "metadata": {},
   "source": [
    "### Answer 2.1\n",
    "$G$ = Hypothesis that cab is green<br>\n",
    "$B$ = Hypothesis that cab is blue <br>\n",
    "$W_{g}$ = Witness observed Green <br>\n",
    "$W_{b}$ = Witness observed Blue <br>\n",
    "2 Hypothesis: {$G$ ,$B$} <br>\n",
    "2 Possible data values : {$W_{b}$ ,$W_{g}$}\n",
    "\n",
    "| H    | p(H) | *Likihood-$p(W|H)$*| *L x p(h)*| *Posterior-$p(H|W)$* |\n",
    "|------|------|-------------|-----------|---------|\n",
    "|  B   | 0.15 |   0.8       |    0.12   |   0.15  |\n",
    "|  G   | 0.85 |   0.8       |    0.68   |   0.85  |\n",
    "|  Sum |   1  |             |    0.8    |     1   |\n",
    "\n",
    "P(B|$W_{b}$) = 15%\n",
    "If a witness observed a Blue Cab, the probability that it is actually a blue cab is **15%** not the typical answer of 80%"
   ]
  },
  {
   "cell_type": "markdown",
   "metadata": {},
   "source": [
    "### Problem 2.2:\n",
    "\n",
    "> Briefly explain what you think the heuristic is that most people used to justify their conclusion.  Criticize it in light of the result of the calculation in Problem 2.1."
   ]
  },
  {
   "cell_type": "markdown",
   "metadata": {},
   "source": [
    "### Answer 2.2\n",
    "Most people think that just because the witness is right 80% of the time in observing the color of a cab, that the person is right 80% of irregarless whether it is a Blue or Green cab. <br>\n",
    "The lower probability that the witness is right given it is a Blue cab is a consequence of the lower probability of having a Blue cab in the city. Most people fails to consider this fact when thinking about probability."
   ]
  },
  {
   "cell_type": "markdown",
   "metadata": {},
   "source": [
    "### Problem 3.1 — Lazy Monty\n",
    "\n",
    "One of the contextual assumptions used in the lecture was that, when you have chosen the door with the prize behind it, Monty will open one of the other doors by choosing one of them randomly, with equal probability. Here, consider slightly different contextual information, $\\mathcal{C}'$, that specifies probabilities $q_2$ and $q_3 = 1-q_2$ that Monty will pick door 2 or door 3 (respectively) when neither hide the prize.  For example, from watching the show, you may have observed that Monty is at the right of the stage, and appears to be lazy: when he could have chosen either door, he tends to favor the one nearest to him (i.e., $q_3 > q_2).\n",
    "\n",
    "> *Recalculate the probability table we computed in the lecture, to calculate posterior probabilities that the prize is behind each of the three doors.  As was done in lecture, assume you've initially chosen door 1, and that Monty opens door 3.*\n"
   ]
  },
  {
   "cell_type": "markdown",
   "metadata": {},
   "source": [
    "| H    | p(H) | Likihood  | L x p(h)| Posterior |\n",
    "|------|------|-------------|-----------|------------------|\n",
    "|  H1   | 1/3 |   $q_3$     |  $q_3$/3 |   $q_3$/($q_3$+1)  |\n",
    "|  H2   | 1/3 |   1         |    1/3    |   1/($q_3$+1)    |\n",
    "|  H3   | 1/3 |   0         |    0      |     0            |\n",
    "| Sum   |  1  |             |($q_3$+1)/3|      1           |\n",
    "\n",
    "P($H_1$|$D$) = $q_3$/ ($q_3$ + 1) <br>\n",
    "P($H_2$|$D$) = 1/ ($q_3$ + 1) <br>\n",
    "P($H_3$|$D$) = 0"
   ]
  },
  {
   "cell_type": "markdown",
   "metadata": {},
   "source": [
    "### Problem 3.2 — LTP version\n",
    "\n",
    "In lecture, we treated the case where you initially chose door 1, and the datum was the proposition, \"Monty opened door 3\" (which we denoted $D_3$).  It's probably obvious to you that the problem has symmetries: that it doesn't matter which door you initially picked, or which of the other doors Monty opened: it's always in your interest to switch.\n",
    "\n",
    "Here, treat the problem in a more symmetric way.  Keep the assumption that you've initially chosen door 1.  But suppose you are trying to come up with a *strategy* for the game, before knowing which door Monty opens (but otherwise knowing all the rules, as specified in the lecture).  Let $W$ denote the proposition, \"I will win by switching to the door Monty does not open.\"  \n",
    "\n",
    "> *Compute $P(W|\\mathcal{C})$ using the law of total probability (LTP) in the \"extend the conversation\" or \"wishful thinking\" version discussed in Lec03.  Pick a set of exclusive, exhaustive propositions (filling the role of the $B_i$ in Lec03) such that, if you knew one of them were true, you could compute $P(W|B_i,\\mathcal{C})$ (use whatever symbol you deem appropriate for $B_i$).  Then use the LTP to account for uncertainty about which of those propositions actually holds.*\n",
    "\n",
    "**Hint:** You should find the same result we found in the specific case treated in class, that the probability for winning if you switch is 2/3."
   ]
  },
  {
   "cell_type": "markdown",
   "metadata": {},
   "source": [
    "### Answer 3.2\n",
    "Let $B_i$ represents the proposition that the prize is in door i. <br>\n",
    "Let P(W|$B_i$) be the probability of winning by switching given that the prize is behind door i. <br>\n",
    "Assume the contestant would always pick door 1, and Monty has no preference when it comes to picking empty doors.<br>\n",
    "p(w) = $\\sum_{i=1}^3$ p(W|$B_i$) x p(B)\n",
    "```\n",
    "  p(Bi) p(player picksD1) p(Monty picks door i)   p(w|bi)\n",
    "                           D2|0.5 ------------------0              \n",
    "  D1|1/3-----D1|1------------|\n",
    "                           D3|0.5-------------------0\n",
    "  D2|1/3-----D1|1----------D3|1 -------------------- 1\n",
    "  D3|1/3-----D1|1----------D2|1--------------------- 1\n",
    "```\n",
    "\n",
    "p(w) = p(w|$B_1$) * p($B_1$) + p(w|$B_2$) * p($B_2$) + p(w|$B_3$) * p($B_3$)<br>\n",
    "     = 0.5 $*$ 1/3 $*$ 0 $*$ 2 + 1/3 $*$ 1 + 1/3 $*$ 1 = 2/3\n"
   ]
  },
  {
   "cell_type": "markdown",
   "metadata": {},
   "source": [
    "### Problem 4.1:\n",
    "\n",
    "> *Derive the formula given in lecture for the expectation value of $x$, denoted $\\Bbb{E}(x)$ or $\\langle x\\rangle$, in terms of $a$ and $b$, where*\n",
    "$$\n",
    "\\Bbb{E}(x) = \\int dx\\; x \\times {\\rm Beta}(x|a,b).\n",
    "$$\n",
    "\n",
    "Present your derivation in the IPython notebook using MathJax LaTeX notation for the math (make sure to also use text to briefly explain your reasoning). "
   ]
  },
  {
   "cell_type": "markdown",
   "metadata": {},
   "source": [
    "### Answer 4.1\n",
    "\n",
    "$$\\Bbb{E}(x) = \\int dx\\; x \\times {\\rm Beta}(x|a,b) $$\n",
    "$$=\\int dx\\; (x) \\frac{1}{B(a,b)} x^{a-1} (1-x)^{b-1}  \\hspace{1cm}\\text{Substitute Beta(x|a,b) by definition}$$  \n",
    "$$=\\frac{1}{B(a,b)} \\int dx\\; (x) \\ x^{a-1}(1-x)^{b-1} \\hspace{1cm}\\text{Factor out the constant}$$\n",
    "$$=\\frac{1}{B(a,b)} \\int dx\\; (x^{a}) (1-x)^{b-1} \\hspace{1cm}\\text{algebra}$$\n",
    "$$=\\frac{1}{B(a+1,b)} {B(a,b)} \\hspace{1cm} \\text{Above integral is equivalent to B(a+1,b)}$$\n",
    "$$\\equiv\\frac{\\Gamma(a+b)}{\\Gamma(a)\\Gamma(b)}(\\frac{\\Gamma(a+1)\\Gamma(b)}{\\Gamma(a+1+b)}) \\hspace{1cm}\\text{Gamma equivalent of beta equation}$$\n",
    "$$\\equiv\\frac{\\Gamma(a+b)}{\\Gamma(a)\\Gamma(b)}(\\frac{a \\times \\Gamma(a)\\Gamma(b)}{\\Gamma(a+b) \\times (a+b)}) \\hspace{1cm}\\text{Gamma(z+1) = z x Gamma(z)}$$\n",
    "$${= \\frac{a}{a+b}} \\hspace{1cm}\\text{cancel out the gamma terms}$$\n",
    "\n"
   ]
  },
  {
   "cell_type": "markdown",
   "metadata": {},
   "source": [
    "### Problem 4.2:\n",
    "\n",
    "> *Derive the formula given in lecture for the mode of the beta distribution, $\\hat x$, in terms of $a$ and $b$.  (The mode is the value of $x$ with maximum probability density).*\n"
   ]
  },
  {
   "cell_type": "markdown",
   "metadata": {},
   "source": [
    "### Answer 4.2\n",
    "To find the mode, we want to find Beta(x|a,b) is the maximum, which is Beta(x|a,b)' = 0.\n",
    "$$ {\\rm Beta}(x|a,b) = \\frac{1}{B(a,b)} x^{a-1} (1-x)^{b-1} $$\n",
    "$$\\frac{\\partial B}{\\partial x} = (x^{a-1})'(1-x)^{b-1} + (x^{a-1})((1-x)^{b-1})' \\hspace{1cm}\\text{product rule}$$\n",
    "$$\\frac{\\partial B}{\\partial x} = (a-1)(x^{a-2})(1-x)^{b-1}-x^{a-1}(b-1)(1-x)^{b-2}\\hspace{1cm}\\text{exponential rule}$$\n",
    "$$\\frac{\\partial B}{\\partial x} = x^{a-2}[(a-1)(1-x)^{b-1} - (b-1)(x)(1-x)^{b-2}]\\hspace{1cm}\\text{factor out x^(a-2)}$$\n",
    "$$\\frac{\\partial B}{\\partial x} = x^{a-2}(1-x)^{b-2}[(a-1)(1-x) - (b-1)(x)]\\hspace{1cm}\\text{factor out (1-x)^(b-2)}$$\n",
    "$$0 = x^{a-2}(1-x)^{b-2}[(a-1)(1-x) - (b-1)(x)]\\hspace{1cm}\\text{set B' = 0}$$\n",
    "$$(b-1)(x) = (a-1)(x) \\hspace{1cm}\\text{algebra} $$\n",
    "$$ x = \\frac{a-1}{a+b-1} \\hspace{1cm}\\text{solve for x}$$\n",
    "$$ x = \\frac{a-1}{(a-1)+(b-1)} \\hspace{1cm}\\text{solve for x}$$"
   ]
  },
  {
   "cell_type": "code",
   "execution_count": null,
   "metadata": {
    "collapsed": true
   },
   "outputs": [],
   "source": []
  }
 ],
 "metadata": {
  "kernelspec": {
   "display_name": "Python 3",
   "language": "python",
   "name": "python3"
  },
  "language_info": {
   "codemirror_mode": {
    "name": "ipython",
    "version": 3
   },
   "file_extension": ".py",
   "mimetype": "text/x-python",
   "name": "python",
   "nbconvert_exporter": "python",
   "pygments_lexer": "ipython3",
   "version": "3.6.3"
  }
 },
 "nbformat": 4,
 "nbformat_minor": 1
}
